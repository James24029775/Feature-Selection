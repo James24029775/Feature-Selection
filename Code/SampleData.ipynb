{
 "cells": [
  {
   "cell_type": "code",
   "execution_count": 1,
   "metadata": {},
   "outputs": [],
   "source": [
    "import numpy as np\n",
    "import pandas as pd"
   ]
  },
  {
   "cell_type": "code",
   "execution_count": 3,
   "metadata": {},
   "outputs": [
    {
     "name": "stdout",
     "output_type": "stream",
     "text": [
      "(500000, 79)\n",
      "(500000, 79)\n"
     ]
    }
   ],
   "source": [
    "files = ['Friday-WorkingHours-Afternoon-DDos.pcap_ISCX.csv',\n",
    "'Friday-WorkingHours-Afternoon-PortScan.pcap_ISCX.csv',\n",
    "'Friday-WorkingHours-Afternoon-PortScan.pcap_ISCX.csv',\n",
    "'Monday-WorkingHours.pcap_ISCX.csv',\n",
    "'Thursday-WorkingHours-Afternoon-Infilteration.pcap_ISCX.csv',\n",
    "'Tuesday-WorkingHours.pcap_ISCX.csv',\n",
    "'Wednesday-workingHours.pcap_ISCX.csv']\n",
    "\n",
    "d = pd.DataFrame()\n",
    "for f in files:\n",
    "    raw = pd.read_csv('../Data/CICIDS-2017/' + f)\n",
    "    d = pd.concat([d, raw], axis=0)\n",
    "\n",
    "train = pd.DataFrame()\n",
    "for i in range(5):\n",
    "    train = pd.concat([train, d.sample(100000)], axis=0)\n",
    "train.to_csv('../Data/CICIDS-2017/train.csv')\n",
    "print(train.shape)\n",
    "test= pd.DataFrame()\n",
    "for i in range(5):\n",
    "    test = pd.concat([test, d.sample(100000)], axis=0)\n",
    "test.to_csv('../Data/CICIDS-2017/test.csv')\n",
    "print(test.shape)"
   ]
  }
 ],
 "metadata": {
  "kernelspec": {
   "display_name": "ml",
   "language": "python",
   "name": "python3"
  },
  "language_info": {
   "codemirror_mode": {
    "name": "ipython",
    "version": 3
   },
   "file_extension": ".py",
   "mimetype": "text/x-python",
   "name": "python",
   "nbconvert_exporter": "python",
   "pygments_lexer": "ipython3",
   "version": "3.10.4 | packaged by conda-forge | (main, Mar 30 2022, 08:38:02) [MSC v.1916 64 bit (AMD64)]"
  },
  "orig_nbformat": 4,
  "vscode": {
   "interpreter": {
    "hash": "4c4f194b091935ea0535537ef7f3ca3b8fc985a0d71c01646ea70346d6ccae7f"
   }
  }
 },
 "nbformat": 4,
 "nbformat_minor": 2
}
